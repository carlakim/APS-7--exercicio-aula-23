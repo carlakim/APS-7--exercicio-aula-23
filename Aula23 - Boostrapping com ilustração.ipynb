{
 "cells": [
  {
   "cell_type": "markdown",
   "metadata": {},
   "source": [
    "# Boostrapping - Intervalo de confiança para tomada de decisão"
   ]
  },
  {
   "cell_type": "markdown",
   "metadata": {},
   "source": [
    "## Aula 23\n",
    "\n",
    "**Preparo Prévio:**\n",
    "1. Magalhães e Lima, seção 7.4. Concentrar-se em intervalo de confiança para média amostra\n",
    "1. Bootstrapping - https://www.thoughtco.com/example-of-bootstrapping-3126155\n",
    "1. Bootstrapping - https://www.stat.auckland.ac.nz/~wild/BootAnim/\n",
    "\n",
    "**Hoje:**\n",
    "1. Entender e implementar o método não paramétrico de Bootstrapping \n",
    "\n",
    "**Próxima aula:**\n",
    "1. Montogmery. Seção 6-2 - Simple Linear Regression\n",
    "1. Magalhães e Lima, seção 9.5. Regressão Linear Simples\n",
    "\n",
    "___\n"
   ]
  },
  {
   "cell_type": "markdown",
   "metadata": {},
   "source": [
    "___\n",
    "# Bootstrapping\n",
    "\n",
    "## Solução: Métodos não paramétricos\n",
    "\n",
    "Bootstrapping é um método de reamostragem com reposição que consiste em recuperar a distribuição de uma medida de interesse a partir de uma amostra mestre. Por exemplo, podemos utilizar a média como medida de interesse, mas a distribuição de outras medidas também pode ser estimadas, como por exemplo variância, mediana, etc.\n",
    "\n",
    "Reamostragem com reposição significa que um mesmo elemento pode ser selecionado várias vezes, assim como outro elemento pode não ser escolhido. Seria equivalente a sortear um número e por de volta na urna.\n",
    "\n",
    "### Como funciona\n",
    "\n",
    "Dada um conjunto com a amostra mestre aleatória $x_1, x_2,..., x_n$ de uma população qualquer, devemos sortear consecutivamente, com reposição, conjuntos de tamanho também $n$ dessa amostra amostra mestre. Esses conjuntos são chamados de reamostragem e esse processo deve ser feito milhares de vezes.\n",
    "\n",
    "A cada reamostragem deve-se aplicar a medida de interesse, nesse caso a média, e guardar em uma lista. Ao fim das milhares de reamostragens, teremos uma distribuição da medida desejada. \n",
    "\n",
    "De posse desta distribuição, podemos calcular o Intervalo de Confiança por meio dos seus percentis fixando a confiança que se deseja no mesmo."
   ]
  },
  {
   "cell_type": "markdown",
   "metadata": {},
   "source": [
    "<img src=\"Bootstrap.png\"/>\n",
    "<center><sup>**Figura 1.** Ilustração da técnica Bootstrap - reamostragens da amostra mestre (extraído e adaptado de http://robertovitillo.com/2015/03/15/confidence-intervals-and-hypothesis-tests-for-engineers/).</sup></center>\n",
    "\n",
    "\n",
    "Devido a sua generalidade, a técnica Bootstrap se encaixa na solução de problemas complexos que queiram utilizar outra informação numérica populacional (parâmetro de interesse) que não seja necessariamente a média populacional. \n",
    "Por meio dessa técnica, os parâmetros como média, variância, proporção e até mesmo parâmetros menos utilizados como o máximo, mínimo ou mediana de uma população podem ser estimados pontualmente e por intervalo.\n",
    "\n",
    "A distribuição Bootstrap geralmente tem a mesma forma e amplitude que a distribuição amostral da estatística, porém a primeira está centrada na estatística dos dados originais (amostra mestre), enquanto a segunda está centrada no parâmetro da população. Assim, se o objetivo for estudar a média populacional ($\\mu$), a distribuição Bootstrap será construída com as médias das reamostras ($\\bar{x}^*_j$), com $j=1,\\ldots,B$ e estará centrada na média da amostra mestre ($\\bar{x}$); enquanto a distribuição das médias amostrais obtidas da população ($\\bar{X}$) está centrada em $\\mu$ conforme descreve o Teorema do Limite Central (TLC) e conforme visto na simulação do Encontro 12.\n",
    "\n",
    "<img src=\"DistBootstrap.png\"/>\n",
    "<center><sup>**Figura 2.** Construção da distribuição Bootstrap a partir das médias das reamostras.</sup></center>"
   ]
  },
  {
   "cell_type": "markdown",
   "metadata": {},
   "source": [
    "___\n",
    "# Intervalo de confiança Bootstrap\n",
    "\n",
    "\n",
    "** Intervalo de Confiança Bootstrap Percentil **\n",
    "\n",
    "$IC(\\mu;\\gamma) = \\left(q_{\\frac{1-\\gamma}{2}}; q_{\\frac{1+\\gamma}{2}} \\right),$\n",
    "\n",
    "sendo $q_{\\frac{1-\\gamma}{2}}$ o quantil de ordem ((1-$\\gamma$)/2)100$\\%$ e $q_{\\frac{1+\\gamma}{2}}$ o quantil de ordem ((1+$\\gamma$)/2)100$\\%$ das médias das reamostras, ou seja, os quantis das  médias $\\bar{x}^*_j$, com $j=1,\\ldots,B$.\n",
    "\n",
    "** Observação: **\n",
    "A técnica Boostrap nos permite verificar o vício olhando se a distribuição das médias reamostradas (distribuição Bootstrap) está centrada na média da amostra mestre, ou seja, no caso, avaliar a diferença entre $\\bar{\\bar{x}}^*$ e $\\bar{x}$. Caso essa diferença seja grande ou se os intervalos de confiança construídos não sejam parecidos, é necessário buscar outros intervalos de confiança que façam a correção desse viés. Não abordaremos aqui!\n",
    "\n",
    "___\n"
   ]
  },
  {
   "cell_type": "markdown",
   "metadata": {},
   "source": [
    "**Algoritmo**\n",
    " \n",
    "   1. Repetir 10.000 vezes:\n",
    "           1.1. Realizar um sorteio com reposição da amostra mestre. Usar a função choice() do numpy.\n",
    "           1.2. Calcular a medida de interesse da reamostragem e guardar em uma lista.\n",
    "   2. Plotar o histograma dessa lista de medidas de calculadas anteriormente.\n",
    "   3. A partir da lista, encontrar os percentis de ordem $\\alpha/2$ e $(1-\\alpha)/2$ para construir Intervalo de Confiança Boostrap, sendo $\\alpha=1-\\gamma$.\n",
    "   4. Se objetivo for tomada de decisão, avalie se o valor sob alguma hipótese faz parte ou não do intervalo de confiança construído!\n",
    "\n",
    "___\n",
    "    "
   ]
  },
  {
   "cell_type": "code",
   "execution_count": 2,
   "metadata": {
    "collapsed": true
   },
   "outputs": [],
   "source": [
    "import numpy as np\n",
    "import matplotlib as plt\n",
    "import pandas as pd\n",
    "from scipy import stats\n",
    "import math\n",
    "\n",
    "%matplotlib inline\n"
   ]
  },
  {
   "cell_type": "markdown",
   "metadata": {},
   "source": [
    "___\n",
    "# Exercício do Termopar - Determinação de intervalo de confiança\n",
    "\n",
    "O tempo de vida, em horas, de um termopar* usado em fornalhas é suposto ser aproximadamente normal. Uma amostra aleatória de 15 termopares resultaram nos seguintes tempos:\n",
    "\n",
    "`553, 552, 567, 579, 550, 541, 537, 553, 552, 546, 538, 553, 581, 539, 529`\n",
    "\n",
    "A empresa diz que um termopar deve durar, em média, 560 horas. Há evidências de que essa afirmação seja verdadeira? Considere um coeficiente de confiança de 95%.\n"
   ]
  },
  {
   "cell_type": "code",
   "execution_count": 3,
   "metadata": {
    "collapsed": true
   },
   "outputs": [],
   "source": [
    "dados = [553, 552, 567, 579, 550, 541, 537, 553, 552, 546, 538, 553, 581, 539, 529]\n",
    "dados = pd.Series(dados)\n",
    "n = len(dados)"
   ]
  },
  {
   "cell_type": "code",
   "execution_count": 4,
   "metadata": {},
   "outputs": [
    {
     "name": "stdout",
     "output_type": "stream",
     "text": [
      "Média:  551.3333333333334\n",
      "Desvio padrão amostral:  14.811514182586208\n"
     ]
    }
   ],
   "source": [
    "#Estimativas\n",
    "xbarra = np.mean(dados)\n",
    "dp = np.std(dados,ddof=1)\n",
    "\n",
    "print(\"Média: \", xbarra)\n",
    "print(\"Desvio padrão amostral: \", dp)\n"
   ]
  },
  {
   "cell_type": "code",
   "execution_count": 5,
   "metadata": {
    "collapsed": true
   },
   "outputs": [],
   "source": [
    "#Construção das Reamostragens da amostra mestre (dados) com reposição\n",
    "n = 10\n",
    "xbarra_Boot = []\n",
    "\n",
    "\n",
    "B = 10000\n",
    "for i in range(B):\n",
    "    reamostra = np.random.choice(dados, size = n, replace = True)\n",
    "    xbarra_Boot.append(np.mean(reamostra))\n",
    "    \n",
    "    # Gera uma reamostra dos dados _com_ reposição\n",
    "    # Continue..."
   ]
  },
  {
   "cell_type": "code",
   "execution_count": 6,
   "metadata": {},
   "outputs": [
    {
     "data": {
      "text/plain": [
       "<matplotlib.axes._subplots.AxesSubplot at 0x1c840e78fd0>"
      ]
     },
     "execution_count": 6,
     "metadata": {},
     "output_type": "execute_result"
    },
    {
     "data": {
      "image/png": "[encoded data removed]",
      "text/plain": [
       "<matplotlib.figure.Figure at 0x1c8447162e8>"
      ]
     },
     "metadata": {},
     "output_type": "display_data"
    }
   ],
   "source": [
    "# Distribuição Bootstrap \n",
    "# Continue...\n",
    "\n",
    "xbarra_boot = pd.Series(xbarra_Boot)\n",
    "\n",
    "xbarra_boot.plot.hist(normed= True, color = 'purple')"
   ]
  },
  {
   "cell_type": "code",
   "execution_count": 14,
   "metadata": {},
   "outputs": [
    {
     "name": "stdout",
     "output_type": "stream",
     "text": [
      "x critico esquerdo: 542.9\n",
      "x critico direita: 560.6\n",
      "O intervalo de confianca esta entre 542.9000000000001 e 560.6\n"
     ]
    }
   ],
   "source": [
    "# Intervalo de confiança Bootstrap Percentil (ou Quantil)\n",
    "# Confiança = 0.95 ou seja Alpha = 0.05\n",
    "\n",
    "#o percentile acha o valor naquela porcentagem que voce quer\n",
    "#Aqui, vai achar o valor minimo (xcesquerda) e maximo (xcdireita) \n",
    "#O intervalo de conficanca eh o intervalo entre essos dois valores\n",
    "#se valor suspeito estiver fora,\n",
    "\n",
    "xcesquerda = np.percentile(xbarra_boot,2.5)\n",
    "\n",
    "xcdireita = np.percentile(xbarra_Boot,100-2.5)\n",
    "\n",
    "# Continue...\n",
    "\n",
    "print('x critico esquerdo:',xcesquerda)\n",
    "print('x critico direita:',xcdireita)\n",
    "print('O intervalo de confianca esta entre {0} e {1}'.format(xcesquerda,xcdireita))"
   ]
  },
  {
   "cell_type": "code",
   "execution_count": 15,
   "metadata": {
    "collapsed": true
   },
   "outputs": [],
   "source": [
    "#xbarra_boot.describe()"
   ]
  },
  {
   "cell_type": "markdown",
   "metadata": {
    "collapsed": true
   },
   "source": [
    "Tomada de decisão:\n",
    "560 pertence a regiao de confianca. Assim, a empresa diz uma afirmacao verdadeira."
   ]
  },
  {
   "cell_type": "markdown",
   "metadata": {},
   "source": [
    "___\n",
    "\n",
    "# Qualidade da linha de produção\n",
    "\n",
    "As latas de certa marca de refrigerante apresentam em seu rótulo o volume de 350 ml. Ainda, um órgão regulador diz que a dispersão dessas quantidades deve ser no máximo de 10 ml em seu conteúdo. \n",
    "\n",
    "** Linha de produção deve ser parada? **\n",
    "\n",
    "Conjectura 1: O fabricante deseja testar se o conteúdo médio das latas é igual a 350 ml, como anunciado no rótulo. Isto equivale a verificar se a máquina está regulada para colocar 350 ml, ou não, nas latas. \n",
    "\n",
    "Conjectura 2: O fabricante deseja avaliar se a variabilidade dos conteúdos está sendo respeitada ou não.\n",
    "\n",
    "\n",
    "Para averiguar tais hipóteses do fabricante, foi coletada uma amostra de 36 latas do refrigerante em pontos de comercialização e mediu-se o conteúdo destas latas.\n",
    "\n",
    "Os resultados obtidos na amostra foram:\n",
    "\n",
    "dados = [344.5,  352.9,  355.0,  348.8,\n",
    "        \t342.0,  344.7,  346.9,  340.9,\n",
    "            357.7,  341.2,  347.1,  365.3,\n",
    "            340.3,  343.2,  342.6,  333.7,\n",
    "        \t341.9,  351.0,  348.0,  354.3,\n",
    "        \t344.9,  348.0,  346.4,  358.0,\n",
    "        \t340.2,  354.4,  349.7,  339.4,\n",
    "        \t338.8,  344.9,  330.4,  341.7,\n",
    "        \t336.7,  363.2,  355.9,  357.4]\n",
    "\n",
    "\n",
    "Avalie tais hipóteses com 95% de confiança?\n",
    "\n",
    "Responda se a linha de produção deve ser interrompida e por qual motivo?"
   ]
  },
  {
   "cell_type": "code",
   "execution_count": 16,
   "metadata": {
    "collapsed": true
   },
   "outputs": [],
   "source": [
    "dadosl = [344.5,  352.9,  355.0,  348.8,\n",
    "            342.0,  344.7,  346.9,  340.9,\n",
    "            357.7,  341.2,  347.1,  365.3,\n",
    "            340.3,  343.2,  342.6,  333.7,\n",
    "            341.9,  351.0,  348.0,  354.3,\n",
    "            344.9,  348.0,  346.4,  358.0,\n",
    "            340.2,  354.4,  349.7,  339.4,\n",
    "            338.8,  344.9,  330.4,  341.7,\n",
    "            336.7,  363.2,  355.9,  357.4]\n",
    "\n",
    "dadosl = pd.Series(dadosl)\n",
    "nl = len(dadosl)"
   ]
  },
  {
   "cell_type": "code",
   "execution_count": 17,
   "metadata": {},
   "outputs": [
    {
     "name": "stdout",
     "output_type": "stream",
     "text": [
      "Média:  347.0\n",
      "Desvio padrão amostral:  7.990601622263139\n"
     ]
    }
   ],
   "source": [
    "#Conjectura 1: lista deverá ser construída com médias. Achar media dos volumes das latas\n",
    "\n",
    "xbarralata = dadosl.mean()\n",
    "dplata = np.std(dadosl,ddof=1)\n",
    "\n",
    "print(\"Média: \", xbarralata)\n",
    "print(\"Desvio padrão amostral: \", dplata)\n",
    "\n",
    "#a maquina nao esta regulada"
   ]
  },
  {
   "cell_type": "code",
   "execution_count": 18,
   "metadata": {
    "collapsed": true
   },
   "outputs": [],
   "source": [
    "#Conjectura 2: lista deverá ser construída com desvios padrões amostrais\n",
    "\n",
    "xdesviosboot = []\n",
    "\n",
    "for i in range(10000):\n",
    "    reamostraL = np.random.choice(dadosl, size = 36, replace = True)\n",
    "    xdesviosboot.append(np.std(reamostraL, ddof = 1))\n",
    "    \n",
    "    # Gera uma reamostra dos dados _com_ reposição"
   ]
  },
  {
   "cell_type": "code",
   "execution_count": 19,
   "metadata": {},
   "outputs": [
    {
     "name": "stdout",
     "output_type": "stream",
     "text": [
      "x critico esquerdo: 6.12897036838\n",
      "x critico direito: 9.52465930221\n",
      "O intervalo de confianca esta entre 6.12897036837783 e 9.524659302209809\n"
     ]
    }
   ],
   "source": [
    "xdesviosboot = pd.Series(xdesviosboot)\n",
    "\n",
    "xce = np.percentile(xdesviosboot, 2.5)\n",
    "\n",
    "xcd = np.percentile(xdesviosboot, 100-2.5)\n",
    "\n",
    "print('x critico esquerdo:',xce)\n",
    "print('x critico direito:',xcd)\n",
    "print('O intervalo de confianca esta entre {0} e {1}'.format(xce,xcd))"
   ]
  },
  {
   "cell_type": "markdown",
   "metadata": {},
   "source": [
    "O intervalo de confianca eh menor que 10ml. Entao nao ha necessidade de que a producao seja interrompida"
   ]
  },
  {
   "cell_type": "markdown",
   "metadata": {
    "collapsed": true
   },
   "source": [
    "___\n",
    "\n",
    "# Experimento dos resistores - APS7 (um dos exercícios)\n",
    "\n",
    "** Compraria o lote de resistores pelo valor médio e pela tolerância? **\n",
    "\n",
    "Use a sua amostra para concluir se compraria o lote de resistores pelo controle de qualidade tanto quanto aos $1000 k\\Omega$ e quanto aos $5\\%$ de tolerância.\n",
    "\n",
    "Use 95% de confiança para tomada de decisão!"
   ]
  },
  {
   "cell_type": "code",
   "execution_count": 20,
   "metadata": {
    "collapsed": true
   },
   "outputs": [],
   "source": [
    "resistores=[1027,1057,1019,999,1033,1027,1063,1028,1029,1052,1024,1007,1035]\n",
    "\n",
    "resistores = pd.Series(resistores)\n",
    "nr = len(resistores)\n",
    "\n",
    "#para uma mi=1000, o dp= 50"
   ]
  },
  {
   "cell_type": "code",
   "execution_count": 21,
   "metadata": {},
   "outputs": [
    {
     "name": "stdout",
     "output_type": "stream",
     "text": [
      "Média:  1030.7692307692307\n",
      "Desvio padrão amostral:  18.253556028684045\n"
     ]
    }
   ],
   "source": [
    "xzinhobr = resistores.mean()\n",
    "despad = np.std(resistores, ddof = 1)\n",
    "\n",
    "print(\"Média: \", xzinhobr)\n",
    "print(\"Desvio padrão amostral: \", despad)"
   ]
  },
  {
   "cell_type": "code",
   "execution_count": 27,
   "metadata": {
    "collapsed": true
   },
   "outputs": [],
   "source": [
    "xbrboot = []\n",
    "\n",
    "xdespadboot = []\n",
    "\n",
    "for i in range(10000):\n",
    "    reamost = np.random.choice(resistores, size = 13, replace = True)\n",
    "    xbrboot.append(np.mean(reamost))\n",
    "    xdespadboot.append(np.std(reamost, ddof=1))"
   ]
  },
  {
   "cell_type": "code",
   "execution_count": 28,
   "metadata": {},
   "outputs": [
    {
     "name": "stdout",
     "output_type": "stream",
     "text": [
      "x critico esquerdo: 1021.30769231\n",
      "x critico direito: 1040.46153846\n",
      "O intervalo de confianca esta entre 1021.3076923076923 e 1040.4615384615386\n"
     ]
    }
   ],
   "source": [
    "xbrboot = pd.Series(xbrboot)\n",
    "\n",
    "#fazerndo o limite pela media\n",
    "xcem = np.percentile(xbrboot,2.5)\n",
    "xcdm = np.percentile(xbrboot, 100-2.5)\n",
    "\n",
    "print('x critico esquerdo:',xcem)\n",
    "print('x critico direito:',xcdm)\n",
    "print('O intervalo de confianca esta entre {0} e {1}'.format(xcem,xcdm))"
   ]
  },
  {
   "cell_type": "code",
   "execution_count": 29,
   "metadata": {},
   "outputs": [
    {
     "name": "stdout",
     "output_type": "stream",
     "text": [
      "x critico esquerdo: 10.3164199535\n",
      "x critico direito: 23.1680316876\n",
      "O intervalo de confianca esta entre 10.316419953454075 e 23.16803168760431\n"
     ]
    }
   ],
   "source": [
    "xdespadboot = pd.Series(xdespadboot)\n",
    "\n",
    "#fazendo o limite pelo desvio padrao\n",
    "xcedp = np.percentile(xdespadboot,2.5)\n",
    "xcddp = np.percentile(xdespadboot, 100-2.5)\n",
    "\n",
    "print('x critico esquerdo:',xcedp)\n",
    "print('x critico direito:',xcddp)\n",
    "print('O intervalo de confianca esta entre {0} e {1}'.format(xcedp,xcddp))"
   ]
  },
  {
   "cell_type": "markdown",
   "metadata": {
    "collapsed": true
   },
   "source": [
    " O lote de resistores seria comprado, pois está dentro do intervalo de confiança, tanto em média como em desvio padão."
   ]
  },
  {
   "cell_type": "code",
   "execution_count": null,
   "metadata": {
    "collapsed": true
   },
   "outputs": [],
   "source": []
  }
 ],
 "metadata": {
  "anaconda-cloud": {},
  "kernelspec": {
   "display_name": "Python 3",
   "language": "python",
   "name": "python3"
  },
  "language_info": {
   "codemirror_mode": {
    "name": "ipython",
    "version": 3
   },
   "file_extension": ".py",
   "mimetype": "text/x-python",
   "name": "python",
   "nbconvert_exporter": "python",
   "pygments_lexer": "ipython3",
   "version": "3.6.1"
  }
 },
 "nbformat": 4,
 "nbformat_minor": 1
}
